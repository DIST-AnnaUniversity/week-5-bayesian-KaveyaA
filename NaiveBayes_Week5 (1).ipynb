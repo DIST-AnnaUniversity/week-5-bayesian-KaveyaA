{
  "nbformat": 4,
  "nbformat_minor": 0,
  "metadata": {
    "colab": {
      "provenance": []
    },
    "kernelspec": {
      "name": "python3",
      "display_name": "Python 3"
    },
    "language_info": {
      "name": "python"
    }
  },
  "cells": [
    {
      "cell_type": "markdown",
      "source": [
        "Importing necessary libraries"
      ],
      "metadata": {
        "id": "ECOuOA6cR5XS"
      }
    },
    {
      "cell_type": "code",
      "execution_count": 2,
      "metadata": {
        "id": "1AuxQGuvRKjr"
      },
      "outputs": [],
      "source": [
        "import pandas as pd\n",
        "import numpy as np\n",
        "import matplotlib.pyplot as plt\n",
        "import seaborn as sns\n",
        "from sklearn.naive_bayes import GaussianNB\n",
        "from sklearn.metrics import accuracy_score\n",
        "from sklearn.model_selection import train_test_split\n",
        "import warnings\n",
        "warnings.filterwarnings('ignore')"
      ]
    },
    {
      "cell_type": "markdown",
      "source": [
        "Uploading the dataset"
      ],
      "metadata": {
        "id": "-AzjMbDMR1yJ"
      }
    },
    {
      "cell_type": "code",
      "source": [
        "df=pd.read_csv('glass.csv')\n",
        "df.head()"
      ],
      "metadata": {
        "colab": {
          "base_uri": "https://localhost:8080/",
          "height": 206
        },
        "id": "ACo3jG6NR-Xp",
        "outputId": "3fd43476-f8c8-498d-eb1c-07b0f8165ecf"
      },
      "execution_count": 3,
      "outputs": [
        {
          "output_type": "execute_result",
          "data": {
            "text/plain": [
              "        RI     Na    Mg    Al     Si     K    Ca   Ba   Fe  Type\n",
              "0  1.52101  13.64  4.49  1.10  71.78  0.06  8.75  0.0  0.0     1\n",
              "1  1.51761  13.89  3.60  1.36  72.73  0.48  7.83  0.0  0.0     1\n",
              "2  1.51618  13.53  3.55  1.54  72.99  0.39  7.78  0.0  0.0     1\n",
              "3  1.51766  13.21  3.69  1.29  72.61  0.57  8.22  0.0  0.0     1\n",
              "4  1.51742  13.27  3.62  1.24  73.08  0.55  8.07  0.0  0.0     1"
            ],
            "text/html": [
              "\n",
              "  <div id=\"df-c3a02c63-2c4a-4b94-ad92-8a20836a8926\">\n",
              "    <div class=\"colab-df-container\">\n",
              "      <div>\n",
              "<style scoped>\n",
              "    .dataframe tbody tr th:only-of-type {\n",
              "        vertical-align: middle;\n",
              "    }\n",
              "\n",
              "    .dataframe tbody tr th {\n",
              "        vertical-align: top;\n",
              "    }\n",
              "\n",
              "    .dataframe thead th {\n",
              "        text-align: right;\n",
              "    }\n",
              "</style>\n",
              "<table border=\"1\" class=\"dataframe\">\n",
              "  <thead>\n",
              "    <tr style=\"text-align: right;\">\n",
              "      <th></th>\n",
              "      <th>RI</th>\n",
              "      <th>Na</th>\n",
              "      <th>Mg</th>\n",
              "      <th>Al</th>\n",
              "      <th>Si</th>\n",
              "      <th>K</th>\n",
              "      <th>Ca</th>\n",
              "      <th>Ba</th>\n",
              "      <th>Fe</th>\n",
              "      <th>Type</th>\n",
              "    </tr>\n",
              "  </thead>\n",
              "  <tbody>\n",
              "    <tr>\n",
              "      <th>0</th>\n",
              "      <td>1.52101</td>\n",
              "      <td>13.64</td>\n",
              "      <td>4.49</td>\n",
              "      <td>1.10</td>\n",
              "      <td>71.78</td>\n",
              "      <td>0.06</td>\n",
              "      <td>8.75</td>\n",
              "      <td>0.0</td>\n",
              "      <td>0.0</td>\n",
              "      <td>1</td>\n",
              "    </tr>\n",
              "    <tr>\n",
              "      <th>1</th>\n",
              "      <td>1.51761</td>\n",
              "      <td>13.89</td>\n",
              "      <td>3.60</td>\n",
              "      <td>1.36</td>\n",
              "      <td>72.73</td>\n",
              "      <td>0.48</td>\n",
              "      <td>7.83</td>\n",
              "      <td>0.0</td>\n",
              "      <td>0.0</td>\n",
              "      <td>1</td>\n",
              "    </tr>\n",
              "    <tr>\n",
              "      <th>2</th>\n",
              "      <td>1.51618</td>\n",
              "      <td>13.53</td>\n",
              "      <td>3.55</td>\n",
              "      <td>1.54</td>\n",
              "      <td>72.99</td>\n",
              "      <td>0.39</td>\n",
              "      <td>7.78</td>\n",
              "      <td>0.0</td>\n",
              "      <td>0.0</td>\n",
              "      <td>1</td>\n",
              "    </tr>\n",
              "    <tr>\n",
              "      <th>3</th>\n",
              "      <td>1.51766</td>\n",
              "      <td>13.21</td>\n",
              "      <td>3.69</td>\n",
              "      <td>1.29</td>\n",
              "      <td>72.61</td>\n",
              "      <td>0.57</td>\n",
              "      <td>8.22</td>\n",
              "      <td>0.0</td>\n",
              "      <td>0.0</td>\n",
              "      <td>1</td>\n",
              "    </tr>\n",
              "    <tr>\n",
              "      <th>4</th>\n",
              "      <td>1.51742</td>\n",
              "      <td>13.27</td>\n",
              "      <td>3.62</td>\n",
              "      <td>1.24</td>\n",
              "      <td>73.08</td>\n",
              "      <td>0.55</td>\n",
              "      <td>8.07</td>\n",
              "      <td>0.0</td>\n",
              "      <td>0.0</td>\n",
              "      <td>1</td>\n",
              "    </tr>\n",
              "  </tbody>\n",
              "</table>\n",
              "</div>\n",
              "      <button class=\"colab-df-convert\" onclick=\"convertToInteractive('df-c3a02c63-2c4a-4b94-ad92-8a20836a8926')\"\n",
              "              title=\"Convert this dataframe to an interactive table.\"\n",
              "              style=\"display:none;\">\n",
              "        \n",
              "  <svg xmlns=\"http://www.w3.org/2000/svg\" height=\"24px\"viewBox=\"0 0 24 24\"\n",
              "       width=\"24px\">\n",
              "    <path d=\"M0 0h24v24H0V0z\" fill=\"none\"/>\n",
              "    <path d=\"M18.56 5.44l.94 2.06.94-2.06 2.06-.94-2.06-.94-.94-2.06-.94 2.06-2.06.94zm-11 1L8.5 8.5l.94-2.06 2.06-.94-2.06-.94L8.5 2.5l-.94 2.06-2.06.94zm10 10l.94 2.06.94-2.06 2.06-.94-2.06-.94-.94-2.06-.94 2.06-2.06.94z\"/><path d=\"M17.41 7.96l-1.37-1.37c-.4-.4-.92-.59-1.43-.59-.52 0-1.04.2-1.43.59L10.3 9.45l-7.72 7.72c-.78.78-.78 2.05 0 2.83L4 21.41c.39.39.9.59 1.41.59.51 0 1.02-.2 1.41-.59l7.78-7.78 2.81-2.81c.8-.78.8-2.07 0-2.86zM5.41 20L4 18.59l7.72-7.72 1.47 1.35L5.41 20z\"/>\n",
              "  </svg>\n",
              "      </button>\n",
              "      \n",
              "  <style>\n",
              "    .colab-df-container {\n",
              "      display:flex;\n",
              "      flex-wrap:wrap;\n",
              "      gap: 12px;\n",
              "    }\n",
              "\n",
              "    .colab-df-convert {\n",
              "      background-color: #E8F0FE;\n",
              "      border: none;\n",
              "      border-radius: 50%;\n",
              "      cursor: pointer;\n",
              "      display: none;\n",
              "      fill: #1967D2;\n",
              "      height: 32px;\n",
              "      padding: 0 0 0 0;\n",
              "      width: 32px;\n",
              "    }\n",
              "\n",
              "    .colab-df-convert:hover {\n",
              "      background-color: #E2EBFA;\n",
              "      box-shadow: 0px 1px 2px rgba(60, 64, 67, 0.3), 0px 1px 3px 1px rgba(60, 64, 67, 0.15);\n",
              "      fill: #174EA6;\n",
              "    }\n",
              "\n",
              "    [theme=dark] .colab-df-convert {\n",
              "      background-color: #3B4455;\n",
              "      fill: #D2E3FC;\n",
              "    }\n",
              "\n",
              "    [theme=dark] .colab-df-convert:hover {\n",
              "      background-color: #434B5C;\n",
              "      box-shadow: 0px 1px 3px 1px rgba(0, 0, 0, 0.15);\n",
              "      filter: drop-shadow(0px 1px 2px rgba(0, 0, 0, 0.3));\n",
              "      fill: #FFFFFF;\n",
              "    }\n",
              "  </style>\n",
              "\n",
              "      <script>\n",
              "        const buttonEl =\n",
              "          document.querySelector('#df-c3a02c63-2c4a-4b94-ad92-8a20836a8926 button.colab-df-convert');\n",
              "        buttonEl.style.display =\n",
              "          google.colab.kernel.accessAllowed ? 'block' : 'none';\n",
              "\n",
              "        async function convertToInteractive(key) {\n",
              "          const element = document.querySelector('#df-c3a02c63-2c4a-4b94-ad92-8a20836a8926');\n",
              "          const dataTable =\n",
              "            await google.colab.kernel.invokeFunction('convertToInteractive',\n",
              "                                                     [key], {});\n",
              "          if (!dataTable) return;\n",
              "\n",
              "          const docLinkHtml = 'Like what you see? Visit the ' +\n",
              "            '<a target=\"_blank\" href=https://colab.research.google.com/notebooks/data_table.ipynb>data table notebook</a>'\n",
              "            + ' to learn more about interactive tables.';\n",
              "          element.innerHTML = '';\n",
              "          dataTable['output_type'] = 'display_data';\n",
              "          await google.colab.output.renderOutput(dataTable, element);\n",
              "          const docLink = document.createElement('div');\n",
              "          docLink.innerHTML = docLinkHtml;\n",
              "          element.appendChild(docLink);\n",
              "        }\n",
              "      </script>\n",
              "    </div>\n",
              "  </div>\n",
              "  "
            ]
          },
          "metadata": {},
          "execution_count": 3
        }
      ]
    },
    {
      "cell_type": "markdown",
      "source": [
        "Checking null values:"
      ],
      "metadata": {
        "id": "BSMYLn_9S2lI"
      }
    },
    {
      "cell_type": "code",
      "source": [
        "df.isnull().sum()"
      ],
      "metadata": {
        "colab": {
          "base_uri": "https://localhost:8080/"
        },
        "id": "lFJe0qu-S7q4",
        "outputId": "4f418cb7-5939-4a5b-af6d-a6a9439a6d7e"
      },
      "execution_count": 4,
      "outputs": [
        {
          "output_type": "execute_result",
          "data": {
            "text/plain": [
              "RI      0\n",
              "Na      0\n",
              "Mg      0\n",
              "Al      0\n",
              "Si      0\n",
              "K       0\n",
              "Ca      0\n",
              "Ba      0\n",
              "Fe      0\n",
              "Type    0\n",
              "dtype: int64"
            ]
          },
          "metadata": {},
          "execution_count": 4
        }
      ]
    },
    {
      "cell_type": "markdown",
      "source": [
        "Modelling data with gaussain naive bayes from Scikit-learn."
      ],
      "metadata": {
        "id": "MxmS71oOTajY"
      }
    },
    {
      "cell_type": "code",
      "source": [
        "#create a naive bayes object\n",
        "nb=GaussianNB()\n",
        "#identifying features and target variables\n",
        "x=df.drop(columns=['Type'])\n",
        "y=df['Type']\n",
        "\n",
        "#splitting data into training and testing set\n",
        "x_train,x_test,y_train,y_test=train_test_split(x,y,test_size=0.2,random_state=42)"
      ],
      "metadata": {
        "id": "Ext-f3d0TgTY"
      },
      "execution_count": 20,
      "outputs": []
    },
    {
      "cell_type": "code",
      "source": [
        "print(x_train)"
      ],
      "metadata": {
        "colab": {
          "base_uri": "https://localhost:8080/"
        },
        "id": "0cprCvNkVIwf",
        "outputId": "a9d23e7d-735e-4133-a5d8-d53a449e389c"
      },
      "execution_count": 15,
      "outputs": [
        {
          "output_type": "stream",
          "name": "stdout",
          "text": [
            "          RI     Na    Mg    Al     Si     K    Ca    Ba    Fe\n",
            "160  1.51832  13.33  3.34  1.54  72.14  0.56  8.99  0.00  0.00\n",
            "42   1.51779  13.21  3.39  1.33  72.76  0.59  8.59  0.00  0.00\n",
            "209  1.51623  14.14  0.00  2.88  72.61  0.08  9.18  1.06  0.00\n",
            "70   1.51574  14.86  3.67  1.74  71.87  0.16  7.36  0.00  0.12\n",
            "21   1.51966  14.77  3.75  0.29  72.02  0.03  9.00  0.00  0.00\n",
            "..       ...    ...   ...   ...    ...   ...   ...   ...   ...\n",
            "122  1.51687  13.23  3.54  1.48  72.84  0.56  8.10  0.00  0.00\n",
            "162  1.52211  14.19  3.78  0.91  71.36  0.23  9.14  0.00  0.37\n",
            "192  1.51623  14.20  0.00  2.79  73.46  0.04  9.04  0.40  0.09\n",
            "143  1.51709  13.00  3.47  1.79  72.72  0.66  8.18  0.00  0.00\n",
            "85   1.51625  13.36  3.58  1.49  72.72  0.45  8.21  0.00  0.00\n",
            "\n",
            "[171 rows x 9 columns]\n"
          ]
        }
      ]
    },
    {
      "cell_type": "code",
      "source": [
        "print(y_train)"
      ],
      "metadata": {
        "colab": {
          "base_uri": "https://localhost:8080/"
        },
        "id": "Gn8aVxUPVOqQ",
        "outputId": "d8c92d2c-b748-4c9f-d9cc-dc89c901ed37"
      },
      "execution_count": 16,
      "outputs": [
        {
          "output_type": "stream",
          "name": "stdout",
          "text": [
            "160    3\n",
            "42     1\n",
            "209    7\n",
            "70     2\n",
            "21     1\n",
            "      ..\n",
            "122    2\n",
            "162    3\n",
            "192    7\n",
            "143    2\n",
            "85     2\n",
            "Name: Type, Length: 171, dtype: int64\n"
          ]
        }
      ]
    },
    {
      "cell_type": "code",
      "source": [
        "print(x_test)"
      ],
      "metadata": {
        "colab": {
          "base_uri": "https://localhost:8080/"
        },
        "id": "MJXZRi36VTNI",
        "outputId": "20577ed6-2498-4f80-e3e3-ffdf9f19d9b9"
      },
      "execution_count": 17,
      "outputs": [
        {
          "output_type": "stream",
          "name": "stdout",
          "text": [
            "          RI     Na    Mg    Al     Si     K     Ca    Ba    Fe\n",
            "92   1.51588  13.12  3.41  1.58  73.26  0.07   8.39  0.00  0.19\n",
            "148  1.51670  13.24  3.57  1.38  72.70  0.56   8.44  0.00  0.10\n",
            "12   1.51589  12.88  3.43  1.40  73.28  0.69   8.05  0.00  0.24\n",
            "179  1.51852  14.09  2.19  1.66  72.67  0.00   9.32  0.00  0.00\n",
            "91   1.51605  12.90  3.44  1.45  73.06  0.44   8.27  0.00  0.00\n",
            "99   1.51811  12.96  2.96  1.43  72.92  0.60   8.79  0.14  0.00\n",
            "167  1.51969  12.64  0.00  1.65  73.75  0.38  11.53  0.00  0.00\n",
            "38   1.52213  14.21  3.82  0.47  71.77  0.11   9.57  0.00  0.00\n",
            "117  1.51708  13.72  3.68  1.81  72.06  0.64   7.88  0.00  0.00\n",
            "112  1.52777  12.64  0.00  0.67  72.02  0.06  14.40  0.00  0.00\n",
            "120  1.51844  13.25  3.76  1.32  72.40  0.58   8.42  0.00  0.00\n",
            "126  1.51667  12.94  3.61  1.26  72.75  0.56   8.60  0.00  0.00\n",
            "157  1.52121  14.03  3.76  0.58  71.79  0.11   9.65  0.00  0.00\n",
            "153  1.51610  13.42  3.40  1.22  72.69  0.59   8.32  0.00  0.00\n",
            "82   1.51646  13.41  3.55  1.25  72.81  0.68   8.10  0.00  0.00\n",
            "81   1.51593  13.25  3.45  1.43  73.17  0.61   7.86  0.00  0.00\n",
            "17   1.52196  14.36  3.85  0.89  71.36  0.15   9.15  0.00  0.00\n",
            "133  1.51800  13.71  3.93  1.54  71.81  0.54   8.21  0.00  0.15\n",
            "106  1.53125  10.73  0.00  2.10  69.81  0.58  13.30  3.15  0.28\n",
            "195  1.51545  14.14  0.00  2.68  73.39  0.08   9.07  0.61  0.05\n",
            "64   1.52172  13.48  3.74  0.90  72.01  0.18   9.61  0.00  0.07\n",
            "0    1.52101  13.64  4.49  1.10  71.78  0.06   8.75  0.00  0.00\n",
            "102  1.51820  12.62  2.76  0.83  73.81  0.35   9.42  0.00  0.20\n",
            "77   1.51627  13.00  3.58  1.54  72.83  0.61   8.04  0.00  0.00\n",
            "71   1.51848  13.64  3.87  1.27  71.96  0.54   8.32  0.00  0.32\n",
            "2    1.51618  13.53  3.55  1.54  72.99  0.39   7.78  0.00  0.00\n",
            "60   1.51905  13.60  3.62  1.11  72.64  0.14   8.76  0.00  0.00\n",
            "119  1.51652  13.56  3.57  1.47  72.45  0.64   7.96  0.00  0.00\n",
            "4    1.51742  13.27  3.62  1.24  73.08  0.55   8.07  0.00  0.00\n",
            "146  1.51769  13.65  3.66  1.11  72.77  0.11   8.60  0.00  0.00\n",
            "200  1.51508  15.15  0.00  2.25  73.50  0.00   8.34  0.63  0.00\n",
            "45   1.51900  13.49  3.48  1.35  71.95  0.55   9.00  0.00  0.00\n",
            "44   1.51786  12.73  3.43  1.19  72.95  0.62   8.76  0.00  0.30\n",
            "149  1.51643  12.16  3.52  1.35  72.89  0.57   8.53  0.00  0.00\n",
            "108  1.52222  14.43  0.00  1.00  72.67  0.10  11.52  0.00  0.08\n",
            "9    1.51755  13.00  3.60  1.36  72.99  0.57   8.40  0.00  0.11\n",
            "134  1.51811  13.33  3.85  1.25  72.78  0.52   8.12  0.00  0.00\n",
            "6    1.51743  13.30  3.60  1.14  73.09  0.58   8.17  0.00  0.00\n",
            "63   1.52227  14.17  3.81  0.78  71.35  0.00   9.69  0.00  0.00\n",
            "109  1.51818  13.72  0.00  0.56  74.45  0.00  10.99  0.00  0.00\n",
            "183  1.51969  14.56  0.00  0.56  73.48  0.00  11.22  0.00  0.00\n",
            "40   1.51793  12.79  3.50  1.12  73.03  0.64   8.77  0.00  0.00\n",
            "18   1.51911  13.90  3.73  1.18  72.12  0.06   8.89  0.00  0.00\n"
          ]
        }
      ]
    },
    {
      "cell_type": "code",
      "source": [
        "print(y_test)"
      ],
      "metadata": {
        "colab": {
          "base_uri": "https://localhost:8080/"
        },
        "id": "rNU75D4IVafI",
        "outputId": "acab5317-4a86-4807-b009-e0610c1574c9"
      },
      "execution_count": 18,
      "outputs": [
        {
          "output_type": "stream",
          "name": "stdout",
          "text": [
            "92     2\n",
            "148    3\n",
            "12     1\n",
            "179    6\n",
            "91     2\n",
            "99     2\n",
            "167    5\n",
            "38     1\n",
            "117    2\n",
            "112    2\n",
            "120    2\n",
            "126    2\n",
            "157    3\n",
            "153    3\n",
            "82     2\n",
            "81     2\n",
            "17     1\n",
            "133    2\n",
            "106    2\n",
            "195    7\n",
            "64     1\n",
            "0      1\n",
            "102    2\n",
            "77     2\n",
            "71     2\n",
            "2      1\n",
            "60     1\n",
            "119    2\n",
            "4      1\n",
            "146    3\n",
            "200    7\n",
            "45     1\n",
            "44     1\n",
            "149    3\n",
            "108    2\n",
            "9      1\n",
            "134    2\n",
            "6      1\n",
            "63     1\n",
            "109    2\n",
            "183    6\n",
            "40     1\n",
            "18     1\n",
            "Name: Type, dtype: int64\n"
          ]
        }
      ]
    },
    {
      "cell_type": "code",
      "source": [
        "#training the model\n",
        "nb.fit(x_train,y_train)\n",
        "\n",
        "#predicting testing set\n",
        "y_pred=nb.predict(x_test)\n",
        "\n",
        "#performance check of model\n",
        "print(accuracy_score(y_test,y_pred))"
      ],
      "metadata": {
        "colab": {
          "base_uri": "https://localhost:8080/"
        },
        "id": "6L8u4NskU90h",
        "outputId": "8b9f5aa1-0728-439c-c535-218eb02277b4"
      },
      "execution_count": 21,
      "outputs": [
        {
          "output_type": "stream",
          "name": "stdout",
          "text": [
            "0.5581395348837209\n"
          ]
        }
      ]
    },
    {
      "cell_type": "markdown",
      "source": [
        "Giving a new test instance:"
      ],
      "metadata": {
        "id": "6E3Fo8MtWqHg"
      }
    },
    {
      "cell_type": "code",
      "source": [
        "print(nb.predict([[1.9,  11 , 0.00  ,2.1,  75 , 0.08,   8.3 , 0.63 , 0.00]]))\n",
        "# Type of glass: (class attribute)\n",
        "# -- 1 building_windows_float_processed\n",
        "# -- 2 building_windows_non_float_processed\n",
        "# -- 3 vehicle_windows_float_processed\n",
        "# -- 4 vehicle_windows_non_float_processed (none in this database)\n",
        "# -- 5 containers\n",
        "# -- 6 tableware\n",
        "# -- 7 headlamps"
      ],
      "metadata": {
        "colab": {
          "base_uri": "https://localhost:8080/"
        },
        "id": "JTmnZAInWNrg",
        "outputId": "5a3fc141-b3c7-4925-b229-ff9e08c11d87"
      },
      "execution_count": 13,
      "outputs": [
        {
          "output_type": "stream",
          "name": "stdout",
          "text": [
            "[2]\n"
          ]
        }
      ]
    }
  ]
}